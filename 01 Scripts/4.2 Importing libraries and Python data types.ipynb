{
 "cells": [
  {
   "cell_type": "markdown",
   "id": "2c4297d9",
   "metadata": {},
   "source": [
    "# Table of contents\n",
    "\n",
    "## 01. Importing libraries\n",
    "\n",
    "## 02. Using different data types"
   ]
  },
  {
   "cell_type": "markdown",
   "id": "fc1c265a",
   "metadata": {},
   "source": [
    "# 01. Importing libraries"
   ]
  },
  {
   "cell_type": "code",
   "execution_count": 1,
   "id": "f686c08a",
   "metadata": {},
   "outputs": [],
   "source": [
    "# Import libraries\n",
    "import pandas as pd\n",
    "import numpy as np\n",
    "import os"
   ]
  },
  {
   "cell_type": "markdown",
   "id": "c85f4940",
   "metadata": {},
   "source": [
    "# 02. Using different data types"
   ]
  },
  {
   "cell_type": "code",
   "execution_count": 2,
   "id": "9532e2e6",
   "metadata": {},
   "outputs": [],
   "source": [
    "x = 2"
   ]
  },
  {
   "cell_type": "code",
   "execution_count": 3,
   "id": "4aae8e0a",
   "metadata": {},
   "outputs": [
    {
     "data": {
      "text/plain": [
       "2"
      ]
     },
     "execution_count": 3,
     "metadata": {},
     "output_type": "execute_result"
    }
   ],
   "source": [
    "x"
   ]
  },
  {
   "cell_type": "code",
   "execution_count": 4,
   "id": "4f7d7e0d",
   "metadata": {},
   "outputs": [
    {
     "name": "stdout",
     "output_type": "stream",
     "text": [
      "2\n"
     ]
    }
   ],
   "source": [
    "print (x)"
   ]
  },
  {
   "cell_type": "code",
   "execution_count": 5,
   "id": "5f3ab43c",
   "metadata": {},
   "outputs": [
    {
     "data": {
      "text/plain": [
       "int"
      ]
     },
     "execution_count": 5,
     "metadata": {},
     "output_type": "execute_result"
    }
   ],
   "source": [
    "type (x)"
   ]
  },
  {
   "cell_type": "code",
   "execution_count": 6,
   "id": "68496906",
   "metadata": {},
   "outputs": [],
   "source": [
    "y = 5.678"
   ]
  },
  {
   "cell_type": "code",
   "execution_count": 7,
   "id": "ccf792a0",
   "metadata": {},
   "outputs": [
    {
     "data": {
      "text/plain": [
       "float"
      ]
     },
     "execution_count": 7,
     "metadata": {},
     "output_type": "execute_result"
    }
   ],
   "source": [
    "type (y)"
   ]
  },
  {
   "cell_type": "code",
   "execution_count": 8,
   "id": "4a42a75a",
   "metadata": {},
   "outputs": [],
   "source": [
    "z = 'Brazil'"
   ]
  },
  {
   "cell_type": "code",
   "execution_count": 9,
   "id": "e873d39e",
   "metadata": {},
   "outputs": [
    {
     "data": {
      "text/plain": [
       "str"
      ]
     },
     "execution_count": 9,
     "metadata": {},
     "output_type": "execute_result"
    }
   ],
   "source": [
    "type (z)"
   ]
  },
  {
   "cell_type": "code",
   "execution_count": 10,
   "id": "388176e2",
   "metadata": {},
   "outputs": [
    {
     "ename": "NameError",
     "evalue": "name 'Mania' is not defined",
     "output_type": "error",
     "traceback": [
      "\u001b[0;31m---------------------------------------------------------------------------\u001b[0m",
      "\u001b[0;31mNameError\u001b[0m                                 Traceback (most recent call last)",
      "\u001b[0;32m/var/folders/xf/prw7mx913rn2xzxlywvr1_jc0000gn/T/ipykernel_20328/3823519552.py\u001b[0m in \u001b[0;36m<module>\u001b[0;34m\u001b[0m\n\u001b[0;32m----> 1\u001b[0;31m \u001b[0mtype\u001b[0m \u001b[0;34m(\u001b[0m\u001b[0mMania\u001b[0m\u001b[0;34m)\u001b[0m\u001b[0;34m\u001b[0m\u001b[0;34m\u001b[0m\u001b[0m\n\u001b[0m",
      "\u001b[0;31mNameError\u001b[0m: name 'Mania' is not defined"
     ]
    }
   ],
   "source": [
    "type (Mania)"
   ]
  },
  {
   "cell_type": "code",
   "execution_count": 11,
   "id": "b0b3f901",
   "metadata": {},
   "outputs": [
    {
     "data": {
      "text/plain": [
       "str"
      ]
     },
     "execution_count": 11,
     "metadata": {},
     "output_type": "execute_result"
    }
   ],
   "source": [
    "type ('Mania')"
   ]
  },
  {
   "cell_type": "code",
   "execution_count": 12,
   "id": "0968776d",
   "metadata": {},
   "outputs": [
    {
     "ename": "NameError",
     "evalue": "name 'true' is not defined",
     "output_type": "error",
     "traceback": [
      "\u001b[0;31m---------------------------------------------------------------------------\u001b[0m",
      "\u001b[0;31mNameError\u001b[0m                                 Traceback (most recent call last)",
      "\u001b[0;32m/var/folders/xf/prw7mx913rn2xzxlywvr1_jc0000gn/T/ipykernel_20328/1462424904.py\u001b[0m in \u001b[0;36m<module>\u001b[0;34m\u001b[0m\n\u001b[0;32m----> 1\u001b[0;31m \u001b[0mtype\u001b[0m \u001b[0;34m(\u001b[0m\u001b[0mtrue\u001b[0m\u001b[0;34m)\u001b[0m\u001b[0;34m\u001b[0m\u001b[0;34m\u001b[0m\u001b[0m\n\u001b[0m",
      "\u001b[0;31mNameError\u001b[0m: name 'true' is not defined"
     ]
    }
   ],
   "source": [
    "type (true)"
   ]
  },
  {
   "cell_type": "code",
   "execution_count": 13,
   "id": "02a7ca95",
   "metadata": {},
   "outputs": [
    {
     "data": {
      "text/plain": [
       "bool"
      ]
     },
     "execution_count": 13,
     "metadata": {},
     "output_type": "execute_result"
    }
   ],
   "source": [
    "type (True)"
   ]
  },
  {
   "cell_type": "code",
   "execution_count": 14,
   "id": "1acfc8df",
   "metadata": {},
   "outputs": [
    {
     "data": {
      "text/plain": [
       "bool"
      ]
     },
     "execution_count": 14,
     "metadata": {},
     "output_type": "execute_result"
    }
   ],
   "source": [
    "type (False)"
   ]
  },
  {
   "cell_type": "code",
   "execution_count": 15,
   "id": "2f4a8c58",
   "metadata": {},
   "outputs": [
    {
     "data": {
      "text/plain": [
       "6"
      ]
     },
     "execution_count": 15,
     "metadata": {},
     "output_type": "execute_result"
    }
   ],
   "source": [
    "x+4"
   ]
  },
  {
   "cell_type": "code",
   "execution_count": 16,
   "id": "7755a1db",
   "metadata": {},
   "outputs": [
    {
     "data": {
      "text/plain": [
       "7.678"
      ]
     },
     "execution_count": 16,
     "metadata": {},
     "output_type": "execute_result"
    }
   ],
   "source": [
    "x+y"
   ]
  },
  {
   "cell_type": "code",
   "execution_count": 17,
   "id": "7eb5a72a",
   "metadata": {},
   "outputs": [],
   "source": [
    "x=x+4"
   ]
  },
  {
   "cell_type": "code",
   "execution_count": 18,
   "id": "e6a1fe2c",
   "metadata": {},
   "outputs": [
    {
     "name": "stdout",
     "output_type": "stream",
     "text": [
      "6\n"
     ]
    }
   ],
   "source": [
    "print(x)"
   ]
  },
  {
   "cell_type": "code",
   "execution_count": 19,
   "id": "b31ba3c2",
   "metadata": {},
   "outputs": [],
   "source": [
    "a = 'Hello'"
   ]
  },
  {
   "cell_type": "code",
   "execution_count": 20,
   "id": "c449cf29",
   "metadata": {},
   "outputs": [],
   "source": [
    "b = 'Marley'"
   ]
  },
  {
   "cell_type": "code",
   "execution_count": 21,
   "id": "213cb8f6",
   "metadata": {},
   "outputs": [
    {
     "data": {
      "text/plain": [
       "'HelloMarley'"
      ]
     },
     "execution_count": 21,
     "metadata": {},
     "output_type": "execute_result"
    }
   ],
   "source": [
    "a+b"
   ]
  },
  {
   "cell_type": "code",
   "execution_count": 22,
   "id": "a4fd5278",
   "metadata": {},
   "outputs": [
    {
     "data": {
      "text/plain": [
       "'HelloMarley'"
      ]
     },
     "execution_count": 22,
     "metadata": {},
     "output_type": "execute_result"
    }
   ],
   "source": [
    "a + b"
   ]
  },
  {
   "cell_type": "code",
   "execution_count": 23,
   "id": "d7149ee6",
   "metadata": {},
   "outputs": [],
   "source": [
    "a = 'Hello, '"
   ]
  },
  {
   "cell_type": "code",
   "execution_count": 24,
   "id": "556a110b",
   "metadata": {},
   "outputs": [
    {
     "data": {
      "text/plain": [
       "'Hello, Marley'"
      ]
     },
     "execution_count": 24,
     "metadata": {},
     "output_type": "execute_result"
    }
   ],
   "source": [
    "a+b"
   ]
  },
  {
   "cell_type": "code",
   "execution_count": 25,
   "id": "b23dda74",
   "metadata": {},
   "outputs": [],
   "source": [
    "n = 'Potatoe'"
   ]
  },
  {
   "cell_type": "code",
   "execution_count": 26,
   "id": "2d13c606",
   "metadata": {},
   "outputs": [
    {
     "data": {
      "text/plain": [
       "'PotatoePotatoePotatoePotatoePotatoePotatoePotatoePotatoePotatoePotatoePotatoePotatoe'"
      ]
     },
     "execution_count": 26,
     "metadata": {},
     "output_type": "execute_result"
    }
   ],
   "source": [
    "n*12"
   ]
  },
  {
   "cell_type": "code",
   "execution_count": 27,
   "id": "308efe58",
   "metadata": {},
   "outputs": [
    {
     "data": {
      "text/plain": [
       "False"
      ]
     },
     "execution_count": 27,
     "metadata": {},
     "output_type": "execute_result"
    }
   ],
   "source": [
    "x == y"
   ]
  },
  {
   "cell_type": "code",
   "execution_count": 28,
   "id": "4be9f669",
   "metadata": {},
   "outputs": [
    {
     "data": {
      "text/plain": [
       "str"
      ]
     },
     "execution_count": 28,
     "metadata": {},
     "output_type": "execute_result"
    }
   ],
   "source": [
    "type ('False')"
   ]
  },
  {
   "cell_type": "code",
   "execution_count": 29,
   "id": "a81b84eb",
   "metadata": {},
   "outputs": [
    {
     "data": {
      "text/plain": [
       "bool"
      ]
     },
     "execution_count": 29,
     "metadata": {},
     "output_type": "execute_result"
    }
   ],
   "source": [
    "type (x==y)"
   ]
  },
  {
   "cell_type": "code",
   "execution_count": 1,
   "id": "c97c9cbc",
   "metadata": {},
   "outputs": [],
   "source": [
    "c = 85; d = 15; e = 115; f = 70"
   ]
  },
  {
   "cell_type": "code",
   "execution_count": 2,
   "id": "e16390b1",
   "metadata": {},
   "outputs": [
    {
     "data": {
      "text/plain": [
       "100"
      ]
     },
     "execution_count": 2,
     "metadata": {},
     "output_type": "execute_result"
    }
   ],
   "source": [
    "c+d"
   ]
  },
  {
   "cell_type": "code",
   "execution_count": 3,
   "id": "2c813f6a",
   "metadata": {},
   "outputs": [
    {
     "data": {
      "text/plain": [
       "100"
      ]
     },
     "execution_count": 3,
     "metadata": {},
     "output_type": "execute_result"
    }
   ],
   "source": [
    "e-d"
   ]
  },
  {
   "cell_type": "code",
   "execution_count": 4,
   "id": "2158f107",
   "metadata": {},
   "outputs": [
    {
     "data": {
      "text/plain": [
       "100"
      ]
     },
     "execution_count": 4,
     "metadata": {},
     "output_type": "execute_result"
    }
   ],
   "source": [
    "f+2*d"
   ]
  },
  {
   "cell_type": "code",
   "execution_count": 5,
   "id": "2115d5df",
   "metadata": {},
   "outputs": [
    {
     "data": {
      "text/plain": [
       "100"
      ]
     },
     "execution_count": 5,
     "metadata": {},
     "output_type": "execute_result"
    }
   ],
   "source": [
    "f+d+d"
   ]
  },
  {
   "cell_type": "code",
   "execution_count": 6,
   "id": "3e03330d",
   "metadata": {},
   "outputs": [],
   "source": [
    "g = 2.7; h = 1.3"
   ]
  },
  {
   "cell_type": "code",
   "execution_count": 7,
   "id": "e62ad1dc",
   "metadata": {},
   "outputs": [
    {
     "data": {
      "text/plain": [
       "2.076923076923077"
      ]
     },
     "execution_count": 7,
     "metadata": {},
     "output_type": "execute_result"
    }
   ],
   "source": [
    "g/h"
   ]
  },
  {
   "cell_type": "code",
   "execution_count": 8,
   "id": "bd6f07aa",
   "metadata": {},
   "outputs": [],
   "source": [
    "i = 'Da'; j = 'e'; k = 'la'; l = 'ni'"
   ]
  },
  {
   "cell_type": "code",
   "execution_count": 9,
   "id": "51fd1eac",
   "metadata": {},
   "outputs": [
    {
     "data": {
      "text/plain": [
       "'Daniela'"
      ]
     },
     "execution_count": 9,
     "metadata": {},
     "output_type": "execute_result"
    }
   ],
   "source": [
    "i+l+j+k"
   ]
  },
  {
   "cell_type": "code",
   "execution_count": 12,
   "id": "a7179de8",
   "metadata": {},
   "outputs": [],
   "source": [
    "m='Rabbits'; n='rodents'; o='eat'; p='are'; q='carrots'; s=' '; t='.'"
   ]
  },
  {
   "cell_type": "code",
   "execution_count": 13,
   "id": "d779d159",
   "metadata": {},
   "outputs": [
    {
     "data": {
      "text/plain": [
       "'Rabbits are rodents.'"
      ]
     },
     "execution_count": 13,
     "metadata": {},
     "output_type": "execute_result"
    }
   ],
   "source": [
    "m+s+p+s+n+t"
   ]
  },
  {
   "cell_type": "code",
   "execution_count": 14,
   "id": "2e5f314d",
   "metadata": {},
   "outputs": [
    {
     "data": {
      "text/plain": [
       "'Rabbits eat carrots.'"
      ]
     },
     "execution_count": 14,
     "metadata": {},
     "output_type": "execute_result"
    }
   ],
   "source": [
    "m+s+o+s+q+t"
   ]
  },
  {
   "cell_type": "code",
   "execution_count": 15,
   "id": "372709cb",
   "metadata": {},
   "outputs": [
    {
     "data": {
      "text/plain": [
       "'Rabbits are rodents.Rabbits are rodents.Rabbits are rodents.Rabbits are rodents.Rabbits are rodents.Rabbits are rodents.Rabbits are rodents.Rabbits are rodents.Rabbits are rodents.Rabbits are rodents.Rabbits are rodents.Rabbits are rodents.Rabbits are rodents.Rabbits are rodents.Rabbits are rodents.Rabbits are rodents.Rabbits are rodents.Rabbits are rodents.Rabbits are rodents.Rabbits are rodents.Rabbits are rodents.Rabbits are rodents.Rabbits are rodents.Rabbits are rodents.Rabbits are rodents.Rabbits are rodents.Rabbits are rodents.Rabbits are rodents.Rabbits are rodents.Rabbits are rodents.Rabbits are rodents.Rabbits are rodents.Rabbits are rodents.Rabbits are rodents.Rabbits are rodents.Rabbits are rodents.Rabbits are rodents.Rabbits are rodents.Rabbits are rodents.Rabbits are rodents.Rabbits are rodents.Rabbits are rodents.Rabbits are rodents.Rabbits are rodents.Rabbits are rodents.Rabbits are rodents.Rabbits are rodents.Rabbits are rodents.Rabbits are rodents.Rabbits are rodents.Rabbits are rodents.Rabbits are rodents.Rabbits are rodents.Rabbits are rodents.Rabbits are rodents.Rabbits are rodents.Rabbits are rodents.Rabbits are rodents.Rabbits are rodents.Rabbits are rodents.Rabbits are rodents.Rabbits are rodents.Rabbits are rodents.Rabbits are rodents.Rabbits are rodents.Rabbits are rodents.Rabbits are rodents.Rabbits are rodents.Rabbits are rodents.Rabbits are rodents.Rabbits are rodents.Rabbits are rodents.Rabbits are rodents.Rabbits are rodents.Rabbits are rodents.Rabbits are rodents.Rabbits are rodents.Rabbits are rodents.Rabbits are rodents.Rabbits are rodents.Rabbits are rodents.Rabbits are rodents.Rabbits are rodents.Rabbits are rodents.Rabbits are rodents.Rabbits are rodents.Rabbits are rodents.Rabbits are rodents.Rabbits are rodents.Rabbits are rodents.Rabbits are rodents.Rabbits are rodents.Rabbits are rodents.Rabbits are rodents.Rabbits are rodents.Rabbits are rodents.Rabbits are rodents.Rabbits are rodents.Rabbits are rodents.Rabbits are rodents.'"
      ]
     },
     "execution_count": 15,
     "metadata": {},
     "output_type": "execute_result"
    }
   ],
   "source": [
    "(m+s+p+s+n+t)*100"
   ]
  },
  {
   "cell_type": "code",
   "execution_count": null,
   "id": "fdae5747",
   "metadata": {},
   "outputs": [],
   "source": []
  }
 ],
 "metadata": {
  "kernelspec": {
   "display_name": "Python 3 (ipykernel)",
   "language": "python",
   "name": "python3"
  },
  "language_info": {
   "codemirror_mode": {
    "name": "ipython",
    "version": 3
   },
   "file_extension": ".py",
   "mimetype": "text/x-python",
   "name": "python",
   "nbconvert_exporter": "python",
   "pygments_lexer": "ipython3",
   "version": "3.9.13"
  },
  "varInspector": {
   "cols": {
    "lenName": 16,
    "lenType": 16,
    "lenVar": 40
   },
   "kernels_config": {
    "python": {
     "delete_cmd_postfix": "",
     "delete_cmd_prefix": "del ",
     "library": "var_list.py",
     "varRefreshCmd": "print(var_dic_list())"
    },
    "r": {
     "delete_cmd_postfix": ") ",
     "delete_cmd_prefix": "rm(",
     "library": "var_list.r",
     "varRefreshCmd": "cat(var_dic_list()) "
    }
   },
   "types_to_exclude": [
    "module",
    "function",
    "builtin_function_or_method",
    "instance",
    "_Feature"
   ],
   "window_display": false
  }
 },
 "nbformat": 4,
 "nbformat_minor": 5
}
